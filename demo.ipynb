{
 "cells": [
  {
   "cell_type": "markdown",
   "metadata": {},
   "source": [
    "# Bayesian Anomaly Detection and Classification (BADAC)"
   ]
  },
  {
   "cell_type": "markdown",
   "metadata": {},
   "source": [
    "#### E. Roberts $^1$$^2$, B. A. Bassett $^1$$^2$$^3$$^4$, M. Lochner $^2$$^3$"
   ]
  },
  {
   "cell_type": "markdown",
   "metadata": {},
   "source": [
    "###### 1. University of Cape Town\n",
    "###### 2. African Institute of Mathematical Sciences (AIMS)\n",
    "###### 3. SARAO\n",
    "###### 4. SAAO"
   ]
  },
  {
   "cell_type": "markdown",
   "metadata": {},
   "source": [
    "###### This iPython Notebook serves as a demo to some of our recent (as of February 2019 anyway...) research. The arXiv preprint can be found at: ***LINK***"
   ]
  },
  {
   "cell_type": "markdown",
   "metadata": {},
   "source": [
    "## Introduction"
   ]
  },
  {
   "cell_type": "markdown",
   "metadata": {},
   "source": [
    "Hello fellow Bayesian!*\n",
    "\n",
    "If you're here, it is likely that you, like us, have a passion for either Machine Learning, Bayesian statistics, or both**."
   ]
  },
  {
   "cell_type": "markdown",
   "metadata": {},
   "source": [
    "###### * Those that do not identify as Bayesian needn't worry, we're all-inclusive.\n",
    "###### ** Or the Oxford comma."
   ]
  },
  {
   "cell_type": "markdown",
   "metadata": {},
   "source": [
    "Now, as ever, we begin by importing the required functions:"
   ]
  },
  {
   "cell_type": "code",
   "execution_count": null,
   "metadata": {},
   "outputs": [],
   "source": [
    "%matplotlib inline\n",
    "import numpy as np\n",
    "import matplotlib as mpl\n",
    "import matplotlib.pyplot as plt\n",
    "import functools as funct\n",
    "import operator as op\n",
    "\n",
    "from matplotlib import gridspec\n",
    "from matplotlib.patches import Polygon\n",
    "from scipy import interpolate\n",
    "\n",
    "from badac import bhm_gauss"
   ]
  }
 ],
 "metadata": {
  "kernelspec": {
   "display_name": "Python 3",
   "language": "python",
   "name": "python3"
  },
  "language_info": {
   "codemirror_mode": {
    "name": "ipython",
    "version": 3
   },
   "file_extension": ".py",
   "mimetype": "text/x-python",
   "name": "python",
   "nbconvert_exporter": "python",
   "pygments_lexer": "ipython3",
   "version": "3.6.2"
  }
 },
 "nbformat": 4,
 "nbformat_minor": 2
}
